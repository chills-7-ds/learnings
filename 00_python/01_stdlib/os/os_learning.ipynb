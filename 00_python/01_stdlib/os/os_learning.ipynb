{
 "cells": [
  {
   "cell_type": "code",
   "execution_count": null,
   "id": "7bff9ba4",
   "metadata": {},
   "outputs": [],
   "source": [
    "# Intro to os as a stdlib with a good definition"
   ]
  },
  {
   "cell_type": "code",
   "execution_count": null,
   "id": "515d53e0",
   "metadata": {},
   "outputs": [],
   "source": [
    "# basic file & folder moves.\n",
    "\n",
    "\"\"\" first of all to import it, below is the syntax \"\"\" \n",
    "\n",
    "import os\n",
    "\n",
    "# Let's get the current working directory\n",
    "current_directory = os.getcwd()\n",
    "print(f\"Current Directory: {current_directory}\")\n",
    "\"\"\" \n",
    "output is Current Directory: c:\\Users\\thoma\\Desktop\\learnings\\00_python\\01_stdlib\\os\n",
    "\"\"\"\n",
    "\n",
    "# lets list the contents of the current directory\n",
    "contents = os.listdir()\n",
    "print(\"Contents of the current directory:\", contents)\n",
    "\"\"\"\n",
    "This shows you:\n",
    "Files\n",
    "Folders\n",
    "Anything in the current spot\n",
    "\"\"\"\n",
    "\n",
    "# to changes directory, we can use os.chdir()\n",
    "os.chdir('/path/to/another/folder')\n",
    "print(\"New working directory:\", os.getcwd())\n",
    "''' Absolute: /home/user/Documents\n",
    "Relative: ../ (go up one folder) '''\n",
    "\n",
    "# chatgpt says it better, \n",
    "\"\"\"\n",
    "✅ Real-life analogy\n",
    "os.getcwd() = “Where am I?”\n",
    "os.listdir() = “What’s here?”\n",
    "os.chdir() = “Move to a different room.”\n",
    "\"\"\"\n",
    "\n",
    "# To remember,\n",
    "\"\"\"\n",
    "If you run Python from a terminal, your starting directory is usually where you ran the script from.\n",
    "\n",
    "If you run from an IDE, it’s usually the project root — but can vary.\n",
    "\"\"\"\n",
    "\n",
    "# using os.path.join to create paths that work on any OS\n",
    "my_file = os.path.join(cwd, \"myfile.txt\")\n",
    "print(\"My file path:\", my_file)\n",
    "\"\"\"works the same on Windows and Linux, so you don't have to worry about slashes\"\"\""
   ]
  },
  {
   "cell_type": "code",
   "execution_count": null,
   "id": "ae41677d",
   "metadata": {},
   "outputs": [],
   "source": [
    "# A quick exercise\n",
    "\"\"\"\n",
    "1️⃣ Print your current working directory.\n",
    "2️⃣ List its contents.\n",
    "3️⃣ Change to a subfolder (make sure it exists first!).\n",
    "4️⃣ Print the new working directory.\n",
    "\"\"\"\n",
    "\n",
    "current_wd = os.getcwd()\n",
    "print(\"current working directory:\", current_wd)\n",
    "\n",
    "print(os.listdir(current_wd))\n",
    "\n",
    "os.chdir('os_sample_subfolder')  \n",
    "print(\"New working directory:\", os.getcwd())\n",
    "\n",
    "\"\"\"\n",
    "output:\n",
    "current working directory: c:\\Users\\thoma\\Desktop\\learnings\\00_python\\01_stdlib\\os\n",
    "['os_learning.ipynb', 'os_sample_subfolder']\n",
    "New working directory: c:\\Users\\thoma\\Desktop\\learnings\\00_python\\01_stdlib\\os\\os_sample_subfolder\n",
    "\"\"\""
   ]
  },
  {
   "cell_type": "code",
   "execution_count": null,
   "id": "2ab2a9c9",
   "metadata": {},
   "outputs": [],
   "source": []
  }
 ],
 "metadata": {
  "kernelspec": {
   "display_name": "Python 3",
   "language": "python",
   "name": "python3"
  },
  "language_info": {
   "codemirror_mode": {
    "name": "ipython",
    "version": 3
   },
   "file_extension": ".py",
   "mimetype": "text/x-python",
   "name": "python",
   "nbconvert_exporter": "python",
   "pygments_lexer": "ipython3",
   "version": "3.12.4"
  }
 },
 "nbformat": 4,
 "nbformat_minor": 5
}
