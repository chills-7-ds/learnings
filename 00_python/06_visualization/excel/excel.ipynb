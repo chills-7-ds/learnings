{
 "cells": [
  {
   "cell_type": "code",
   "execution_count": null,
   "id": "c5329be5",
   "metadata": {
    "vscode": {
     "languageId": "plaintext"
    }
   },
   "outputs": [],
   "source": [
    "# i will keep whatever i learned about DV through excel here"
   ]
  }
 ],
 "metadata": {
  "language_info": {
   "name": "python"
  }
 },
 "nbformat": 4,
 "nbformat_minor": 5
}
